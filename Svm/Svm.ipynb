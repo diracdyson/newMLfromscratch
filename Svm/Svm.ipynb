{
  "nbformat": 4,
  "nbformat_minor": 0,
  "metadata": {
    "colab": {
      "provenance": []
    },
    "kernelspec": {
      "name": "python3",
      "display_name": "Python 3"
    },
    "language_info": {
      "name": "python"
    }
  },
  "cells": [
    {
      "cell_type": "code",
      "execution_count": null,
      "metadata": {
        "id": "e50LCwmWxPfR"
      },
      "outputs": [],
      "source": [
        "import numpy as np\n",
        "from matplotlib import pyplot as plt\n",
        "%matplotlib inline\n",
        "from scipy import stats\n",
        "import seaborn as sns; sns.set()\n",
        "from sklearn.datasets import make_blobs\n"
      ]
    },
    {
      "cell_type": "code",
      "source": [
        "x=np.array([[-2,4,-1],\n",
        "           [4,1,-1],\n",
        "           [1,6,-1],\n",
        "           [2,3,-1],\n",
        "           [6,2,-1]\n",
        "            ])\n",
        "y=np.array([-1,-1,1,1,1])\n",
        "\n",
        "for val, inp in enumerate(x):\n",
        "  if y[val]==-1:\n",
        "    plt.scatter(inp[0],inp[1],s=100,marker='_',linewidths=4)\n",
        "  else:\n",
        "    plt.scatter(inp[0],inp[1],s=100,marker='+',linewidths=4)"
      ],
      "metadata": {
        "colab": {
          "base_uri": "https://localhost:8080/",
          "height": 265
        },
        "id": "F6qKq5UMybDt",
        "outputId": "06f20fe5-10ef-4d72-8844-39226f15ed26"
      },
      "execution_count": null,
      "outputs": [
        {
          "output_type": "display_data",
          "data": {
            "image/png": "[encoded data removed]",
            "text/plain": [
              "<Figure size 432x288 with 1 Axes>"
            ]
          },
          "metadata": {
            "needs_background": "light"
          }
        }
      ]
    },
    {
      "cell_type": "code",
      "source": [
        " "
      ],
      "metadata": {
        "id": "e_URMSSzxrwB"
      },
      "execution_count": null,
      "outputs": []
    },
    {
      "cell_type": "code",
      "source": [
        "def SVM(x,y):\n",
        "  w=np.zeros(len(x[0]))\n",
        "\n",
        "  lr=1\n",
        "  epoch=10000\n",
        "  out=[]\n",
        "  for e in range(epoch):\n",
        "    for i, val in enumerate(x):\n",
        "      vall= np.dot(x[i],w)\n",
        "      if(y[i]*vall<1):\n",
        "        w=w+lr*((y[i]*x[i])-(2*(1/epoch)*w))\n",
        "      else:\n",
        "        w=w+lr*(-2*(1/epoch)*w)\n",
        "  for i, val in enumerate(x):\n",
        "    out.append(np.dot(x[i],w))\n",
        "\n",
        "  return w,out\n"
      ],
      "metadata": {
        "id": "w8nmfyEWzGO-"
      },
      "execution_count": null,
      "outputs": []
    },
    {
      "cell_type": "code",
      "source": [
        "w, out= SVM(x,y)\n",
        "\n",
        "\n",
        "for val, inp in enumerate(x):\n",
        "  if y[val]==-1:\n",
        "    plt.scatter(inp[0],inp[1],s=100,marker='_',linewidths=4)\n",
        "  else:\n",
        "    plt.scatter(inp[0],inp[1],s=100,marker='+',linewidths=4)\n",
        "\n",
        "x1=[w[0],w[1],-w[1],w[0]]\n",
        "x2=[w[0],w[1],w[1],-w[0]]\n",
        "x1x2=np.array([x1,x2])\n",
        "X,Y,U,V = zip(*x1x2)\n",
        "ax=plt.gca()\n",
        "ax.quiver(X,Y,U,V,scale=1, color='blue') "
      ],
      "metadata": {
        "colab": {
          "base_uri": "https://localhost:8080/",
          "height": 282
        },
        "id": "Mjv5XPsH0xPR",
        "outputId": "c48cd238-4dfd-437d-a61a-287496898879"
      },
      "execution_count": null,
      "outputs": [
        {
          "output_type": "execute_result",
          "data": {
            "text/plain": [
              "<matplotlib.quiver.Quiver at 0x7f64e65946d0>"
            ]
          },
          "metadata": {},
          "execution_count": 15
        },
        {
          "output_type": "display_data",
          "data": {
            "image/png": "[encoded data removed]",
            "text/plain": [
              "<Figure size 432x288 with 1 Axes>"
            ]
          },
          "metadata": {
            "needs_background": "light"
          }
        }
      ]
    },
    {
      "cell_type": "code",
      "source": [],
      "metadata": {
        "id": "dheKI1xy06Lk"
      },
      "execution_count": null,
      "outputs": []
    }
  ]
}